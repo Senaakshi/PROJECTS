{
 "cells": [
  {
   "cell_type": "markdown",
   "metadata": {},
   "source": [
    "# Reading the Data and cleaning"
   ]
  },
  {
   "cell_type": "code",
   "execution_count": 1,
   "metadata": {},
   "outputs": [],
   "source": [
    "import pandas as pd\n",
    "import numpy as np\n",
    "import matplotlib.pyplot as plt\n",
    "import seaborn as sns\n",
    "import warnings as ignore_warnings"
   ]
  },
  {
   "cell_type": "code",
   "execution_count": 2,
   "metadata": {},
   "outputs": [
    {
     "name": "stderr",
     "output_type": "stream",
     "text": [
      "/var/folders/7c/z12nzz6s19zbls8hvs28v8tw0000gn/T/ipykernel_29965/77872373.py:1: DtypeWarning: Columns (0,1) have mixed types. Specify dtype option on import or set low_memory=False.\n",
      "  df_rain = pd.read_csv('/Users/senakshikrishnamurthy/Desktop/Sena/Project/d7b0dc22-053d-4a91-8e90-2f8b2ab794e4/data/climate_sirsi_westernghats.csv')\n"
     ]
    }
   ],
   "source": [
    "df_rain = pd.read_csv('/Users/senakshikrishnamurthy/Desktop/Sena/Project/d7b0dc22-053d-4a91-8e90-2f8b2ab794e4/data/climate_sirsi_westernghats.csv')"
   ]
  },
  {
   "cell_type": "code",
   "execution_count": 3,
   "metadata": {},
   "outputs": [
    {
     "name": "stdout",
     "output_type": "stream",
     "text": [
      "<class 'pandas.core.frame.DataFrame'>\n",
      "RangeIndex: 75747 entries, 0 to 75746\n",
      "Data columns (total 8 columns):\n",
      " #   Column             Non-Null Count  Dtype  \n",
      "---  ------             --------------  -----  \n",
      " 0   Date               62960 non-null  object \n",
      " 1   Time               62960 non-null  object \n",
      " 2   RH %               75747 non-null  float64\n",
      " 3   AirTemp_degC       62960 non-null  float64\n",
      " 4   Precip_mm/10 mins  62960 non-null  float64\n",
      " 5   WindDir_deg        62960 non-null  float64\n",
      " 6   WindGust_km/hr     62960 non-null  float64\n",
      " 7   DewPoint_DegC      62960 non-null  float64\n",
      "dtypes: float64(6), object(2)\n",
      "memory usage: 4.6+ MB\n"
     ]
    }
   ],
   "source": [
    "df_rain.info()"
   ]
  },
  {
   "cell_type": "code",
   "execution_count": 4,
   "metadata": {},
   "outputs": [
    {
     "data": {
      "text/html": [
       "<div>\n",
       "<style scoped>\n",
       "    .dataframe tbody tr th:only-of-type {\n",
       "        vertical-align: middle;\n",
       "    }\n",
       "\n",
       "    .dataframe tbody tr th {\n",
       "        vertical-align: top;\n",
       "    }\n",
       "\n",
       "    .dataframe thead th {\n",
       "        text-align: right;\n",
       "    }\n",
       "</style>\n",
       "<table border=\"1\" class=\"dataframe\">\n",
       "  <thead>\n",
       "    <tr style=\"text-align: right;\">\n",
       "      <th></th>\n",
       "      <th>Date</th>\n",
       "      <th>Time</th>\n",
       "      <th>RH %</th>\n",
       "      <th>AirTemp_degC</th>\n",
       "      <th>Precip_mm/10 mins</th>\n",
       "      <th>WindDir_deg</th>\n",
       "      <th>WindGust_km/hr</th>\n",
       "      <th>DewPoint_DegC</th>\n",
       "    </tr>\n",
       "  </thead>\n",
       "  <tbody>\n",
       "    <tr>\n",
       "      <th>0</th>\n",
       "      <td>10/02/2021</td>\n",
       "      <td>17:40</td>\n",
       "      <td>59.9</td>\n",
       "      <td>26.8</td>\n",
       "      <td>0.0</td>\n",
       "      <td>134.0</td>\n",
       "      <td>0.0</td>\n",
       "      <td>18.5</td>\n",
       "    </tr>\n",
       "    <tr>\n",
       "      <th>1</th>\n",
       "      <td>10/02/2021</td>\n",
       "      <td>17:50</td>\n",
       "      <td>62.1</td>\n",
       "      <td>26.2</td>\n",
       "      <td>0.0</td>\n",
       "      <td>175.0</td>\n",
       "      <td>0.0</td>\n",
       "      <td>18.5</td>\n",
       "    </tr>\n",
       "    <tr>\n",
       "      <th>2</th>\n",
       "      <td>10/02/2021</td>\n",
       "      <td>18:00</td>\n",
       "      <td>64.9</td>\n",
       "      <td>25.9</td>\n",
       "      <td>0.0</td>\n",
       "      <td>182.0</td>\n",
       "      <td>0.0</td>\n",
       "      <td>18.9</td>\n",
       "    </tr>\n",
       "    <tr>\n",
       "      <th>3</th>\n",
       "      <td>10/02/2021</td>\n",
       "      <td>18:10</td>\n",
       "      <td>70.0</td>\n",
       "      <td>24.9</td>\n",
       "      <td>0.0</td>\n",
       "      <td>182.0</td>\n",
       "      <td>0.0</td>\n",
       "      <td>19.2</td>\n",
       "    </tr>\n",
       "    <tr>\n",
       "      <th>4</th>\n",
       "      <td>10/02/2021</td>\n",
       "      <td>18:20</td>\n",
       "      <td>72.6</td>\n",
       "      <td>24.2</td>\n",
       "      <td>0.0</td>\n",
       "      <td>182.0</td>\n",
       "      <td>0.0</td>\n",
       "      <td>19.1</td>\n",
       "    </tr>\n",
       "  </tbody>\n",
       "</table>\n",
       "</div>"
      ],
      "text/plain": [
       "         Date  Time   RH %  AirTemp_degC  Precip_mm/10 mins  WindDir_deg  \\\n",
       "0  10/02/2021  17:40  59.9          26.8                0.0        134.0   \n",
       "1  10/02/2021  17:50  62.1          26.2                0.0        175.0   \n",
       "2  10/02/2021  18:00  64.9          25.9                0.0        182.0   \n",
       "3  10/02/2021  18:10  70.0          24.9                0.0        182.0   \n",
       "4  10/02/2021  18:20  72.6          24.2                0.0        182.0   \n",
       "\n",
       "   WindGust_km/hr  DewPoint_DegC  \n",
       "0             0.0           18.5  \n",
       "1             0.0           18.5  \n",
       "2             0.0           18.9  \n",
       "3             0.0           19.2  \n",
       "4             0.0           19.1  "
      ]
     },
     "execution_count": 4,
     "metadata": {},
     "output_type": "execute_result"
    }
   ],
   "source": [
    "df_rain.head()"
   ]
  }
 ],
 "metadata": {
  "kernelspec": {
   "display_name": "base",
   "language": "python",
   "name": "python3"
  },
  "language_info": {
   "codemirror_mode": {
    "name": "ipython",
    "version": 3
   },
   "file_extension": ".py",
   "mimetype": "text/x-python",
   "name": "python",
   "nbconvert_exporter": "python",
   "pygments_lexer": "ipython3",
   "version": "3.12.4"
  }
 },
 "nbformat": 4,
 "nbformat_minor": 2
}
