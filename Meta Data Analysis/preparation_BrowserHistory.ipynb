{
 "cells": [
  {
   "cell_type": "code",
   "execution_count": 1,
   "metadata": {},
   "outputs": [
    {
     "name": "stdout",
     "output_type": "stream",
     "text": [
      "Requirement already satisfied: browserhistory in /opt/anaconda3/lib/python3.12/site-packages (0.1.2)\n"
     ]
    }
   ],
   "source": [
    "!pip install browserhistory"
   ]
  },
  {
   "cell_type": "code",
   "execution_count": 3,
   "metadata": {},
   "outputs": [],
   "source": [
    "import browserhistory as bh"
   ]
  },
  {
   "cell_type": "code",
   "execution_count": 5,
   "metadata": {},
   "outputs": [
    {
     "name": "stdout",
     "output_type": "stream",
     "text": [
      "* SAFARI Database Permission Denied.\n"
     ]
    }
   ],
   "source": [
    "dict_obj = bh.get_browserhistory()\n",
    "chrome_history = dict_obj.get(\"chrome\", [])"
   ]
  },
  {
   "cell_type": "code",
   "execution_count": 6,
   "metadata": {},
   "outputs": [
    {
     "name": "stdout",
     "output_type": "stream",
     "text": [
      "Chrome browser history saved to chrome_browser_history.csv\n"
     ]
    }
   ],
   "source": [
    "import csv\n",
    "\n",
    "# Define CSV file name\n",
    "csv_filename = \"chrome_browser_history.csv\"\n",
    "\n",
    "# Write Chrome history to a CSV file\n",
    "with open(csv_filename, mode=\"w\", newline=\"\", encoding=\"utf-8\") as file:\n",
    "    writer = csv.writer(file)\n",
    "    writer.writerow([\"URL\", \"Title\", \"Timestamp\"])  # Header row\n",
    "\n",
    "    # Write each history entry for Chrome\n",
    "    for entry in chrome_history:\n",
    "        writer.writerow(entry)\n",
    "\n",
    "print(f\"Chrome browser history saved to {csv_filename}\")\n"
   ]
  },
  {
   "cell_type": "code",
   "execution_count": 7,
   "metadata": {},
   "outputs": [],
   "source": [
    "import pandas as pd"
   ]
  },
  {
   "cell_type": "code",
   "execution_count": 8,
   "metadata": {},
   "outputs": [],
   "source": [
    "df = pd.read_csv('chrome_browser_history.csv') #, header=None, names=['Site','Title', 'Time'])"
   ]
  },
  {
   "cell_type": "code",
   "execution_count": 9,
   "metadata": {},
   "outputs": [
    {
     "data": {
      "text/html": [
       "<div>\n",
       "<style scoped>\n",
       "    .dataframe tbody tr th:only-of-type {\n",
       "        vertical-align: middle;\n",
       "    }\n",
       "\n",
       "    .dataframe tbody tr th {\n",
       "        vertical-align: top;\n",
       "    }\n",
       "\n",
       "    .dataframe thead th {\n",
       "        text-align: right;\n",
       "    }\n",
       "</style>\n",
       "<table border=\"1\" class=\"dataframe\">\n",
       "  <thead>\n",
       "    <tr style=\"text-align: right;\">\n",
       "      <th></th>\n",
       "      <th>URL</th>\n",
       "      <th>Title</th>\n",
       "      <th>Timestamp</th>\n",
       "    </tr>\n",
       "  </thead>\n",
       "  <tbody>\n",
       "    <tr>\n",
       "      <th>0</th>\n",
       "      <td>https://chatgpt.com/c/67aa13e0-bd44-8011-a9b2-...</td>\n",
       "      <td>ModuleNotFoundError Fix</td>\n",
       "      <td>2025-02-10 09:57:37</td>\n",
       "    </tr>\n",
       "    <tr>\n",
       "      <th>1</th>\n",
       "      <td>https://chatgpt.com/</td>\n",
       "      <td>ChatGPT</td>\n",
       "      <td>2025-02-10 09:57:13</td>\n",
       "    </tr>\n",
       "    <tr>\n",
       "      <th>2</th>\n",
       "      <td>https://open.spotify.com/collection/tracks</td>\n",
       "      <td>Spotify – Liked Songs</td>\n",
       "      <td>2025-02-10 09:53:18</td>\n",
       "    </tr>\n",
       "    <tr>\n",
       "      <th>3</th>\n",
       "      <td>https://stackoverflow.com/questions/64852841/v...</td>\n",
       "      <td>python - VS Code Jupyter Notebook not importin...</td>\n",
       "      <td>2025-02-10 09:40:02</td>\n",
       "    </tr>\n",
       "    <tr>\n",
       "      <th>4</th>\n",
       "      <td>https://www.google.com/search?q=how+get+import...</td>\n",
       "      <td>how get import lib read in vscode mac jupyter ...</td>\n",
       "      <td>2025-02-10 09:39:52</td>\n",
       "    </tr>\n",
       "  </tbody>\n",
       "</table>\n",
       "</div>"
      ],
      "text/plain": [
       "                                                 URL  \\\n",
       "0  https://chatgpt.com/c/67aa13e0-bd44-8011-a9b2-...   \n",
       "1                               https://chatgpt.com/   \n",
       "2         https://open.spotify.com/collection/tracks   \n",
       "3  https://stackoverflow.com/questions/64852841/v...   \n",
       "4  https://www.google.com/search?q=how+get+import...   \n",
       "\n",
       "                                               Title            Timestamp  \n",
       "0                            ModuleNotFoundError Fix  2025-02-10 09:57:37  \n",
       "1                                            ChatGPT  2025-02-10 09:57:13  \n",
       "2                              Spotify – Liked Songs  2025-02-10 09:53:18  \n",
       "3  python - VS Code Jupyter Notebook not importin...  2025-02-10 09:40:02  \n",
       "4  how get import lib read in vscode mac jupyter ...  2025-02-10 09:39:52  "
      ]
     },
     "execution_count": 9,
     "metadata": {},
     "output_type": "execute_result"
    }
   ],
   "source": [
    "df.head()"
   ]
  },
  {
   "cell_type": "code",
   "execution_count": 10,
   "metadata": {},
   "outputs": [
    {
     "data": {
      "text/html": [
       "<div>\n",
       "<style scoped>\n",
       "    .dataframe tbody tr th:only-of-type {\n",
       "        vertical-align: middle;\n",
       "    }\n",
       "\n",
       "    .dataframe tbody tr th {\n",
       "        vertical-align: top;\n",
       "    }\n",
       "\n",
       "    .dataframe thead th {\n",
       "        text-align: right;\n",
       "    }\n",
       "</style>\n",
       "<table border=\"1\" class=\"dataframe\">\n",
       "  <thead>\n",
       "    <tr style=\"text-align: right;\">\n",
       "      <th></th>\n",
       "      <th>URL</th>\n",
       "      <th>Title</th>\n",
       "      <th>Timestamp</th>\n",
       "    </tr>\n",
       "  </thead>\n",
       "  <tbody>\n",
       "    <tr>\n",
       "      <th>3840</th>\n",
       "      <td>https://www.sql-practice.com/</td>\n",
       "      <td>Learn SQL - Online SQL Terminal - Practice SQL...</td>\n",
       "      <td>1600-12-31 19:00:00</td>\n",
       "    </tr>\n",
       "    <tr>\n",
       "      <th>3841</th>\n",
       "      <td>https://www.datascienceglossary.org/</td>\n",
       "      <td>data science glossary</td>\n",
       "      <td>1600-12-31 19:00:00</td>\n",
       "    </tr>\n",
       "    <tr>\n",
       "      <th>3842</th>\n",
       "      <td>https://www.geeksforgeeks.org/rainfall-predict...</td>\n",
       "      <td>Rainfall Prediction using Machine Learning - P...</td>\n",
       "      <td>1600-12-31 19:00:00</td>\n",
       "    </tr>\n",
       "    <tr>\n",
       "      <th>3843</th>\n",
       "      <td>https://www.citationmachine.net/</td>\n",
       "      <td>Citation Machine®: Format &amp; Generate - APA, ML...</td>\n",
       "      <td>1600-12-31 19:00:00</td>\n",
       "    </tr>\n",
       "    <tr>\n",
       "      <th>3844</th>\n",
       "      <td>https://www.arcgis.com/apps/mapviewer/index.html</td>\n",
       "      <td>Untitled map</td>\n",
       "      <td>1600-12-31 19:00:00</td>\n",
       "    </tr>\n",
       "  </tbody>\n",
       "</table>\n",
       "</div>"
      ],
      "text/plain": [
       "                                                    URL  \\\n",
       "3840                      https://www.sql-practice.com/   \n",
       "3841               https://www.datascienceglossary.org/   \n",
       "3842  https://www.geeksforgeeks.org/rainfall-predict...   \n",
       "3843                   https://www.citationmachine.net/   \n",
       "3844   https://www.arcgis.com/apps/mapviewer/index.html   \n",
       "\n",
       "                                                  Title            Timestamp  \n",
       "3840  Learn SQL - Online SQL Terminal - Practice SQL...  1600-12-31 19:00:00  \n",
       "3841                              data science glossary  1600-12-31 19:00:00  \n",
       "3842  Rainfall Prediction using Machine Learning - P...  1600-12-31 19:00:00  \n",
       "3843  Citation Machine®: Format & Generate - APA, ML...  1600-12-31 19:00:00  \n",
       "3844                                       Untitled map  1600-12-31 19:00:00  "
      ]
     },
     "execution_count": 10,
     "metadata": {},
     "output_type": "execute_result"
    }
   ],
   "source": [
    "df.tail()"
   ]
  },
  {
   "cell_type": "code",
   "execution_count": 11,
   "metadata": {},
   "outputs": [
    {
     "data": {
      "text/plain": [
       "URL            0\n",
       "Title        118\n",
       "Timestamp      0\n",
       "dtype: int64"
      ]
     },
     "execution_count": 11,
     "metadata": {},
     "output_type": "execute_result"
    }
   ],
   "source": [
    "df.isna().sum()"
   ]
  },
  {
   "cell_type": "code",
   "execution_count": 12,
   "metadata": {},
   "outputs": [
    {
     "name": "stdout",
     "output_type": "stream",
     "text": [
      "www.example.test\n",
      "www.test.com.eu\n"
     ]
    }
   ],
   "source": [
    "from urllib.parse import urlparse\n",
    "\n",
    "print(urlparse('http://www.example.test/foo/bar').netloc) # --> www.example.test\n",
    "print(urlparse('http://www.test.com.eu/ters').netloc) # --> www.example.test"
   ]
  },
  {
   "cell_type": "code",
   "execution_count": 13,
   "metadata": {},
   "outputs": [],
   "source": [
    "def get_domain(url):\n",
    "    domain = urlparse(url).netloc\n",
    "    \n",
    "    if domain == '':\n",
    "        return None\n",
    "\n",
    "    return domain\n",
    "        "
   ]
  },
  {
   "cell_type": "code",
   "execution_count": 14,
   "metadata": {},
   "outputs": [],
   "source": [
    "df['domain'] = [ get_domain(s)  for s in df['URL'] ]"
   ]
  },
  {
   "cell_type": "code",
   "execution_count": 15,
   "metadata": {},
   "outputs": [],
   "source": [
    "df.drop('URL', axis=1, inplace=True) # drop Site column & update the current df object\n",
    "df.drop('Title', axis=1, inplace=True) # drop Site column & update the current df object"
   ]
  },
  {
   "cell_type": "code",
   "execution_count": 16,
   "metadata": {},
   "outputs": [
    {
     "data": {
      "text/plain": [
       "Timestamp     0\n",
       "domain       11\n",
       "dtype: int64"
      ]
     },
     "execution_count": 16,
     "metadata": {},
     "output_type": "execute_result"
    }
   ],
   "source": [
    "df.isna().sum()"
   ]
  },
  {
   "cell_type": "code",
   "execution_count": 17,
   "metadata": {},
   "outputs": [],
   "source": [
    "df.dropna(inplace=True)"
   ]
  },
  {
   "cell_type": "code",
   "execution_count": 18,
   "metadata": {},
   "outputs": [
    {
     "data": {
      "text/html": [
       "<div>\n",
       "<style scoped>\n",
       "    .dataframe tbody tr th:only-of-type {\n",
       "        vertical-align: middle;\n",
       "    }\n",
       "\n",
       "    .dataframe tbody tr th {\n",
       "        vertical-align: top;\n",
       "    }\n",
       "\n",
       "    .dataframe thead th {\n",
       "        text-align: right;\n",
       "    }\n",
       "</style>\n",
       "<table border=\"1\" class=\"dataframe\">\n",
       "  <thead>\n",
       "    <tr style=\"text-align: right;\">\n",
       "      <th></th>\n",
       "      <th>Timestamp</th>\n",
       "      <th>domain</th>\n",
       "    </tr>\n",
       "  </thead>\n",
       "  <tbody>\n",
       "    <tr>\n",
       "      <th>0</th>\n",
       "      <td>2025-02-10 09:57:37</td>\n",
       "      <td>chatgpt.com</td>\n",
       "    </tr>\n",
       "    <tr>\n",
       "      <th>1</th>\n",
       "      <td>2025-02-10 09:57:13</td>\n",
       "      <td>chatgpt.com</td>\n",
       "    </tr>\n",
       "    <tr>\n",
       "      <th>2</th>\n",
       "      <td>2025-02-10 09:53:18</td>\n",
       "      <td>open.spotify.com</td>\n",
       "    </tr>\n",
       "    <tr>\n",
       "      <th>3</th>\n",
       "      <td>2025-02-10 09:40:02</td>\n",
       "      <td>stackoverflow.com</td>\n",
       "    </tr>\n",
       "    <tr>\n",
       "      <th>4</th>\n",
       "      <td>2025-02-10 09:39:52</td>\n",
       "      <td>www.google.com</td>\n",
       "    </tr>\n",
       "  </tbody>\n",
       "</table>\n",
       "</div>"
      ],
      "text/plain": [
       "             Timestamp             domain\n",
       "0  2025-02-10 09:57:37        chatgpt.com\n",
       "1  2025-02-10 09:57:13        chatgpt.com\n",
       "2  2025-02-10 09:53:18   open.spotify.com\n",
       "3  2025-02-10 09:40:02  stackoverflow.com\n",
       "4  2025-02-10 09:39:52     www.google.com"
      ]
     },
     "execution_count": 18,
     "metadata": {},
     "output_type": "execute_result"
    }
   ],
   "source": [
    "df.head()"
   ]
  },
  {
   "cell_type": "code",
   "execution_count": 19,
   "metadata": {},
   "outputs": [
    {
     "data": {
      "text/html": [
       "<div>\n",
       "<style scoped>\n",
       "    .dataframe tbody tr th:only-of-type {\n",
       "        vertical-align: middle;\n",
       "    }\n",
       "\n",
       "    .dataframe tbody tr th {\n",
       "        vertical-align: top;\n",
       "    }\n",
       "\n",
       "    .dataframe thead th {\n",
       "        text-align: right;\n",
       "    }\n",
       "</style>\n",
       "<table border=\"1\" class=\"dataframe\">\n",
       "  <thead>\n",
       "    <tr style=\"text-align: right;\">\n",
       "      <th></th>\n",
       "      <th>Timestamp</th>\n",
       "      <th>domain</th>\n",
       "    </tr>\n",
       "  </thead>\n",
       "  <tbody>\n",
       "    <tr>\n",
       "      <th>0</th>\n",
       "      <td>2025-02-10 09:57:37</td>\n",
       "      <td>chatgpt.com</td>\n",
       "    </tr>\n",
       "    <tr>\n",
       "      <th>1</th>\n",
       "      <td>2025-02-10 09:57:13</td>\n",
       "      <td>chatgpt.com</td>\n",
       "    </tr>\n",
       "    <tr>\n",
       "      <th>2</th>\n",
       "      <td>2025-02-10 09:53:18</td>\n",
       "      <td>open.spotify.com</td>\n",
       "    </tr>\n",
       "    <tr>\n",
       "      <th>3</th>\n",
       "      <td>2025-02-10 09:40:02</td>\n",
       "      <td>stackoverflow.com</td>\n",
       "    </tr>\n",
       "    <tr>\n",
       "      <th>4</th>\n",
       "      <td>2025-02-10 09:39:52</td>\n",
       "      <td>www.google.com</td>\n",
       "    </tr>\n",
       "    <tr>\n",
       "      <th>...</th>\n",
       "      <td>...</td>\n",
       "      <td>...</td>\n",
       "    </tr>\n",
       "    <tr>\n",
       "      <th>3840</th>\n",
       "      <td>1600-12-31 19:00:00</td>\n",
       "      <td>www.sql-practice.com</td>\n",
       "    </tr>\n",
       "    <tr>\n",
       "      <th>3841</th>\n",
       "      <td>1600-12-31 19:00:00</td>\n",
       "      <td>www.datascienceglossary.org</td>\n",
       "    </tr>\n",
       "    <tr>\n",
       "      <th>3842</th>\n",
       "      <td>1600-12-31 19:00:00</td>\n",
       "      <td>www.geeksforgeeks.org</td>\n",
       "    </tr>\n",
       "    <tr>\n",
       "      <th>3843</th>\n",
       "      <td>1600-12-31 19:00:00</td>\n",
       "      <td>www.citationmachine.net</td>\n",
       "    </tr>\n",
       "    <tr>\n",
       "      <th>3844</th>\n",
       "      <td>1600-12-31 19:00:00</td>\n",
       "      <td>www.arcgis.com</td>\n",
       "    </tr>\n",
       "  </tbody>\n",
       "</table>\n",
       "<p>3834 rows × 2 columns</p>\n",
       "</div>"
      ],
      "text/plain": [
       "                Timestamp                       domain\n",
       "0     2025-02-10 09:57:37                  chatgpt.com\n",
       "1     2025-02-10 09:57:13                  chatgpt.com\n",
       "2     2025-02-10 09:53:18             open.spotify.com\n",
       "3     2025-02-10 09:40:02            stackoverflow.com\n",
       "4     2025-02-10 09:39:52               www.google.com\n",
       "...                   ...                          ...\n",
       "3840  1600-12-31 19:00:00         www.sql-practice.com\n",
       "3841  1600-12-31 19:00:00  www.datascienceglossary.org\n",
       "3842  1600-12-31 19:00:00        www.geeksforgeeks.org\n",
       "3843  1600-12-31 19:00:00      www.citationmachine.net\n",
       "3844  1600-12-31 19:00:00               www.arcgis.com\n",
       "\n",
       "[3834 rows x 2 columns]"
      ]
     },
     "execution_count": 19,
     "metadata": {},
     "output_type": "execute_result"
    }
   ],
   "source": [
    "# clean data if you need to!!!!! \n",
    "def check(x):\n",
    "    # if True it will include\n",
    "    return True\n",
    "\n",
    "df_clean = df[[ check(x) for x in df.domain]]\n",
    "df_clean"
   ]
  },
  {
   "cell_type": "code",
   "execution_count": 20,
   "metadata": {},
   "outputs": [],
   "source": [
    "# write to csv with a different name\n",
    "\n",
    "df_clean.to_csv('history_cleaned.csv', index=False)"
   ]
  },
  {
   "cell_type": "code",
   "execution_count": null,
   "metadata": {},
   "outputs": [],
   "source": []
  }
 ],
 "metadata": {
  "kernelspec": {
   "display_name": "base",
   "language": "python",
   "name": "python3"
  },
  "language_info": {
   "codemirror_mode": {
    "name": "ipython",
    "version": 3
   },
   "file_extension": ".py",
   "mimetype": "text/x-python",
   "name": "python",
   "nbconvert_exporter": "python",
   "pygments_lexer": "ipython3",
   "version": "3.12.4"
  },
  "toc": {
   "base_numbering": 1,
   "nav_menu": {},
   "number_sections": true,
   "sideBar": true,
   "skip_h1_title": false,
   "title_cell": "Table of Contents",
   "title_sidebar": "Contents",
   "toc_cell": false,
   "toc_position": {},
   "toc_section_display": true,
   "toc_window_display": false
  },
  "varInspector": {
   "cols": {
    "lenName": 16,
    "lenType": 16,
    "lenVar": 40
   },
   "kernels_config": {
    "python": {
     "delete_cmd_postfix": "",
     "delete_cmd_prefix": "del ",
     "library": "var_list.py",
     "varRefreshCmd": "print(var_dic_list())"
    },
    "r": {
     "delete_cmd_postfix": ") ",
     "delete_cmd_prefix": "rm(",
     "library": "var_list.r",
     "varRefreshCmd": "cat(var_dic_list()) "
    }
   },
   "types_to_exclude": [
    "module",
    "function",
    "builtin_function_or_method",
    "instance",
    "_Feature"
   ],
   "window_display": false
  }
 },
 "nbformat": 4,
 "nbformat_minor": 4
}
